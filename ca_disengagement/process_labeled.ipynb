{
 "cells": [
  {
   "cell_type": "markdown",
   "metadata": {},
   "source": [
    "1) Read in all files\n",
    "2) See how many 0's, 1's\n",
    "3) Analyze file (see the average length) "
   ]
  },
  {
   "cell_type": "code",
   "execution_count": 3,
   "metadata": {},
   "outputs": [
    {
     "name": "stdout",
     "output_type": "stream",
     "text": [
      "c:\\Users\\m.litton_local\\ca_disengagement\\data\n",
      "Zeros: 2\n",
      "Ones: 4\n"
     ]
    }
   ],
   "source": [
    "import os\n",
    "import pathlib\n",
    "\n",
    "data_path = os.path.join(os.getcwd(),\"data\")\n",
    "print(data_path)\n",
    "for dirName, subdirList, fileList in os.walk(data_path):\n",
    "    zeros = [f for f in fileList if f.split(\".csv\")[0].split(\"_\",2)[2] == '0']\n",
    "    ones = [f for f in fileList if f.split(\".csv\")[0].split(\"_\",2)[2] == '1']\n",
    "print(f\"Zeros: {len(zeros)}\\nOnes: {len(ones)}\")    "
   ]
  },
  {
   "cell_type": "code",
   "execution_count": 5,
   "metadata": {},
   "outputs": [
    {
     "data": {
      "text/plain": [
       "count      6.000000\n",
       "mean     410.500000\n",
       "std       52.447116\n",
       "min      322.000000\n",
       "25%      391.750000\n",
       "50%      416.000000\n",
       "75%      450.750000\n",
       "max      463.000000\n",
       "dtype: float64"
      ]
     },
     "execution_count": 5,
     "metadata": {},
     "output_type": "execute_result"
    }
   ],
   "source": [
    "import pandas as pd\n",
    "\n",
    "all_files = zeros + ones\n",
    "file_lengths = []\n",
    "for f in all_files:\n",
    "    df = pd.read_csv(os.path.join(data_path,f))\n",
    "    file_lengths.append(df.shape[0])\n",
    "pd.Series(file_lengths).describe()\n"
   ]
  },
  {
   "cell_type": "markdown",
   "metadata": {},
   "source": [
    "4) For each file, take 5 seconds before and 1 second after the event of interest (sampling every 0.5 seconds)"
   ]
  },
  {
   "cell_type": "code",
   "execution_count": 10,
   "metadata": {},
   "outputs": [
    {
     "name": "stdout",
     "output_type": "stream",
     "text": [
      "<class 'pandas.core.frame.DataFrame'>\n",
      "RangeIndex: 6 entries, 0 to 5\n",
      "Columns: 261 entries, distance to class\n",
      "dtypes: float64(260), object(1)\n",
      "memory usage: 12.4+ KB\n"
     ]
    }
   ],
   "source": [
    "sample_interval = 0.5\n",
    "seconds_before = 5\n",
    "seconds_after = 1\n",
    "\n",
    "all_seqs = []\n",
    "for file in all_files:\n",
    "    df = pd.read_csv(os.path.join(data_path,file),index_col=0)\n",
    "    #look at the cases where the adversary is in front of ego\n",
    "    in_front = df[df['angle'].abs() < 5]\n",
    "    if(in_front.shape[0]>0):\n",
    "        min_dist = in_front['distance'].min()\n",
    "        min_dist_idx = in_front['distance'].idxmin()\n",
    "    else:\n",
    "        min_dist = df['distance'].min()\n",
    "        min_dist_idx = df['distance'].idxmin()\n",
    "    start_idx = min_dist_idx - seconds_before * (2*sample_interval/0.05)\n",
    "    stop_idx = min_dist_idx + seconds_after * (2*sample_interval/0.05)\n",
    "\n",
    "    indices_to_sample = []\n",
    "    for x in range(int(start_idx),int(stop_idx+1),int(sample_interval/0.05)): indices_to_sample.append(x)\n",
    "\n",
    "    columns_of_interest = ['distance','angle',\n",
    "        'ego_vel_x','ego_vel_y','ego_vel_z','ego_accel_x','ego_accel_y','ego_accel_z','ego_ang_vel_x','ego_ang_vel_y','ego_ang_vel_z',\n",
    "        'adv_vel_x','adv_vel_y','adv_vel_z','adv_accel_x','adv_accel_y','adv_accel_z','adv_ang_vel_x','adv_ang_vel_y','adv_ang_vel_z']\n",
    "    try:\n",
    "        rows_of_interest = df.loc[indices_to_sample,columns_of_interest]\n",
    "    except:\n",
    "        print(f\"bad keys in file {file}\")\n",
    "        print(indices_to_sample)\n",
    "        continue\n",
    "    one_seq = []\n",
    "    for index, rows in rows_of_interest.iterrows():\n",
    "        for elem in rows:\n",
    "            one_seq.append(elem)\n",
    "    one_seq.append(file.split(\".csv\")[0].split(\"_\",2)[2])\n",
    "    all_seqs.append(one_seq)\n",
    "\n",
    "full_df = pd.DataFrame(all_seqs, columns=(columns_of_interest * 13 + ['class']))\n",
    "full_df.to_csv(os.path.join(os.getcwd(),\"classifier_data\\\\labeled_data.csv\"),index=None)\n",
    "full_df.info()"
   ]
  },
  {
   "cell_type": "markdown",
   "metadata": {},
   "source": [
    "5) Generate Train/Test Files"
   ]
  },
  {
   "cell_type": "code",
   "execution_count": 12,
   "metadata": {},
   "outputs": [],
   "source": [
    "from sklearn.model_selection import train_test_split\n",
    "x = full_df.iloc[:,:-1]\n",
    "y = full_df.iloc[:,-1]\n",
    "x_train, x_test, y_train, y_test = train_test_split(x,y,test_size=0.33)\n",
    "train = x_train.assign(Class=y_train)\n",
    "test = x_test.assign(Class=y_test)\n",
    "train.to_csv(os.path.join(os.getcwd(),\"classifier_data\\\\train_file.csv\"),index=None)\n",
    "test.to_csv(os.path.join(os.getcwd(),\"classifier_data\\\\test_file.csv\"),index=None)\n"
   ]
  },
  {
   "cell_type": "code",
   "execution_count": 13,
   "metadata": {},
   "outputs": [
    {
     "data": {
      "text/html": [
       "<div>\n",
       "<style scoped>\n",
       "    .dataframe tbody tr th:only-of-type {\n",
       "        vertical-align: middle;\n",
       "    }\n",
       "\n",
       "    .dataframe tbody tr th {\n",
       "        vertical-align: top;\n",
       "    }\n",
       "\n",
       "    .dataframe thead th {\n",
       "        text-align: right;\n",
       "    }\n",
       "</style>\n",
       "<table border=\"1\" class=\"dataframe\">\n",
       "  <thead>\n",
       "    <tr style=\"text-align: right;\">\n",
       "      <th></th>\n",
       "      <th>distance</th>\n",
       "      <th>angle</th>\n",
       "      <th>ego_vel_x</th>\n",
       "      <th>ego_vel_y</th>\n",
       "      <th>ego_vel_z</th>\n",
       "      <th>ego_accel_x</th>\n",
       "      <th>ego_accel_y</th>\n",
       "      <th>ego_accel_z</th>\n",
       "      <th>ego_ang_vel_x</th>\n",
       "      <th>ego_ang_vel_y</th>\n",
       "      <th>...</th>\n",
       "      <th>ego_ang_vel_z</th>\n",
       "      <th>adv_vel_x</th>\n",
       "      <th>adv_vel_y</th>\n",
       "      <th>adv_vel_z</th>\n",
       "      <th>adv_accel_x</th>\n",
       "      <th>adv_accel_y</th>\n",
       "      <th>adv_accel_z</th>\n",
       "      <th>adv_ang_vel_x</th>\n",
       "      <th>adv_ang_vel_y</th>\n",
       "      <th>adv_ang_vel_z</th>\n",
       "    </tr>\n",
       "  </thead>\n",
       "  <tbody>\n",
       "    <tr>\n",
       "      <th>5</th>\n",
       "      <td>2.394402</td>\n",
       "      <td>-92.699065</td>\n",
       "      <td>2.213269</td>\n",
       "      <td>-0.004820</td>\n",
       "      <td>0.008226</td>\n",
       "      <td>0.965323</td>\n",
       "      <td>0.034660</td>\n",
       "      <td>0.005624</td>\n",
       "      <td>0.031928</td>\n",
       "      <td>0.247314</td>\n",
       "      <td>...</td>\n",
       "      <td>4.661199</td>\n",
       "      <td>2.579884</td>\n",
       "      <td>0.586424</td>\n",
       "      <td>0.038956</td>\n",
       "      <td>-1.595778</td>\n",
       "      <td>-0.613381</td>\n",
       "      <td>0.057812</td>\n",
       "      <td>2.309749</td>\n",
       "      <td>0.050518</td>\n",
       "      <td>7.780917</td>\n",
       "    </tr>\n",
       "    <tr>\n",
       "      <th>0</th>\n",
       "      <td>3.315200</td>\n",
       "      <td>-32.150837</td>\n",
       "      <td>2.087571</td>\n",
       "      <td>-0.006118</td>\n",
       "      <td>0.001819</td>\n",
       "      <td>0.528011</td>\n",
       "      <td>-0.043070</td>\n",
       "      <td>0.010534</td>\n",
       "      <td>0.049604</td>\n",
       "      <td>0.104988</td>\n",
       "      <td>...</td>\n",
       "      <td>-0.909080</td>\n",
       "      <td>3.764005</td>\n",
       "      <td>-0.140541</td>\n",
       "      <td>0.082125</td>\n",
       "      <td>0.949435</td>\n",
       "      <td>-0.054162</td>\n",
       "      <td>0.019150</td>\n",
       "      <td>0.311968</td>\n",
       "      <td>-0.159733</td>\n",
       "      <td>-11.318643</td>\n",
       "    </tr>\n",
       "    <tr>\n",
       "      <th>3</th>\n",
       "      <td>0.897578</td>\n",
       "      <td>-94.899875</td>\n",
       "      <td>2.120662</td>\n",
       "      <td>-0.006087</td>\n",
       "      <td>0.012148</td>\n",
       "      <td>-1.118417</td>\n",
       "      <td>-0.031779</td>\n",
       "      <td>-0.017178</td>\n",
       "      <td>-0.041992</td>\n",
       "      <td>-0.529649</td>\n",
       "      <td>...</td>\n",
       "      <td>4.490964</td>\n",
       "      <td>2.405383</td>\n",
       "      <td>0.449374</td>\n",
       "      <td>0.042512</td>\n",
       "      <td>-0.143337</td>\n",
       "      <td>-0.122161</td>\n",
       "      <td>0.009461</td>\n",
       "      <td>3.443107</td>\n",
       "      <td>0.518790</td>\n",
       "      <td>6.943606</td>\n",
       "    </tr>\n",
       "    <tr>\n",
       "      <th>2</th>\n",
       "      <td>0.399264</td>\n",
       "      <td>-133.866643</td>\n",
       "      <td>2.074257</td>\n",
       "      <td>-0.005956</td>\n",
       "      <td>-0.000302</td>\n",
       "      <td>0.250907</td>\n",
       "      <td>-0.042951</td>\n",
       "      <td>0.008790</td>\n",
       "      <td>0.032592</td>\n",
       "      <td>0.061778</td>\n",
       "      <td>...</td>\n",
       "      <td>8.390506</td>\n",
       "      <td>2.411951</td>\n",
       "      <td>0.380962</td>\n",
       "      <td>0.016738</td>\n",
       "      <td>-0.283861</td>\n",
       "      <td>-0.342909</td>\n",
       "      <td>0.023494</td>\n",
       "      <td>0.467824</td>\n",
       "      <td>-0.536114</td>\n",
       "      <td>5.686166</td>\n",
       "    </tr>\n",
       "  </tbody>\n",
       "</table>\n",
       "<p>4 rows × 260 columns</p>\n",
       "</div>"
      ],
      "text/plain": [
       "   distance       angle  ego_vel_x  ego_vel_y  ego_vel_z  ego_accel_x  \\\n",
       "5  2.394402  -92.699065   2.213269  -0.004820   0.008226     0.965323   \n",
       "0  3.315200  -32.150837   2.087571  -0.006118   0.001819     0.528011   \n",
       "3  0.897578  -94.899875   2.120662  -0.006087   0.012148    -1.118417   \n",
       "2  0.399264 -133.866643   2.074257  -0.005956  -0.000302     0.250907   \n",
       "\n",
       "   ego_accel_y  ego_accel_z  ego_ang_vel_x  ego_ang_vel_y  ...  ego_ang_vel_z  \\\n",
       "5     0.034660     0.005624       0.031928       0.247314  ...       4.661199   \n",
       "0    -0.043070     0.010534       0.049604       0.104988  ...      -0.909080   \n",
       "3    -0.031779    -0.017178      -0.041992      -0.529649  ...       4.490964   \n",
       "2    -0.042951     0.008790       0.032592       0.061778  ...       8.390506   \n",
       "\n",
       "   adv_vel_x  adv_vel_y  adv_vel_z  adv_accel_x  adv_accel_y  adv_accel_z  \\\n",
       "5   2.579884   0.586424   0.038956    -1.595778    -0.613381     0.057812   \n",
       "0   3.764005  -0.140541   0.082125     0.949435    -0.054162     0.019150   \n",
       "3   2.405383   0.449374   0.042512    -0.143337    -0.122161     0.009461   \n",
       "2   2.411951   0.380962   0.016738    -0.283861    -0.342909     0.023494   \n",
       "\n",
       "   adv_ang_vel_x  adv_ang_vel_y  adv_ang_vel_z  \n",
       "5       2.309749       0.050518       7.780917  \n",
       "0       0.311968      -0.159733     -11.318643  \n",
       "3       3.443107       0.518790       6.943606  \n",
       "2       0.467824      -0.536114       5.686166  \n",
       "\n",
       "[4 rows x 260 columns]"
      ]
     },
     "execution_count": 13,
     "metadata": {},
     "output_type": "execute_result"
    }
   ],
   "source": [
    "x_train.head()"
   ]
  },
  {
   "cell_type": "code",
   "execution_count": 14,
   "metadata": {},
   "outputs": [
    {
     "data": {
      "text/plain": [
       "0.5"
      ]
     },
     "execution_count": 14,
     "metadata": {},
     "output_type": "execute_result"
    }
   ],
   "source": [
    "from sklearn.metrics import accuracy_score,r2_score,confusion_matrix\n",
    "from sklearn.ensemble import RandomForestClassifier\n",
    "import numpy as np\n",
    "from matplotlib import pyplot as plt\n",
    "%matplotlib inline\n",
    "\n",
    "RF = RandomForestClassifier()\n",
    "RF.fit(x_train,y_train)\n",
    "RF.score(x_test,y_test)"
   ]
  },
  {
   "cell_type": "code",
   "execution_count": 15,
   "metadata": {},
   "outputs": [
    {
     "name": "stdout",
     "output_type": "stream",
     "text": [
      "[(157, 'adv_ang_vel_x', 0.04477611940298507), (255, 'adv_accel_y', 0.029850746268656716), (73, 'adv_vel_z', 0.029850746268656716), (172, 'adv_vel_y', 0.029850746268656716), (230, 'ego_ang_vel_z', 0.029850746268656716), (18, 'adv_ang_vel_y', 0.029850746268656716), (187, 'ego_accel_z', 0.029850746268656716), (259, 'adv_ang_vel_z', 0.014925373134328358), (56, 'adv_accel_z', 0.014925373134328358), (169, 'ego_ang_vel_y', 0.014925373134328358), (171, 'adv_vel_x', 0.014925373134328358), (173, 'adv_vel_z', 0.014925373134328358), (180, 'distance', 0.014925373134328358), (53, 'adv_vel_z', 0.014925373134328358), (51, 'adv_vel_x', 0.014925373134328358), (192, 'adv_vel_y', 0.014925373134328358), (194, 'adv_accel_x', 0.014925373134328358), (44, 'ego_vel_z', 0.014925373134328358), (203, 'ego_vel_y', 0.014925373134328358), (205, 'ego_accel_x', 0.014925373134328358)]\n",
      "77.3076923076923\n"
     ]
    },
    {
     "data": {
      "image/png": "[encoded data removed]",
      "text/plain": [
       "<Figure size 432x288 with 1 Axes>"
      ]
     },
     "metadata": {
      "needs_background": "light"
     },
     "output_type": "display_data"
    }
   ],
   "source": [
    "importances = RF.feature_importances_\n",
    "std = np.std([tree.feature_importances_ for tree in RF.estimators_], axis=0)\n",
    "feature_names=x_test.columns.values.tolist()\n",
    "forest_importances = pd.Series(importances, index=feature_names)\n",
    "\n",
    "#print(np.sort(importances)[::-1])\n",
    "sorted_importances = np.argsort(importances)[::-1]\n",
    "sorted_tuple = [(i,feature_names[i],importances[i]) for i in sorted_importances]\n",
    "print(sorted_tuple[:20])\n",
    "print(len([x for x in sorted_tuple if x[2]==0])/len(sorted_tuple) * 100)\n",
    "\n",
    "fig, ax = plt.subplots()\n",
    "forest_importances.plot.bar(yerr=std,ax=ax)\n",
    "ax.set_title(\"Feature importances using MDI\")\n",
    "ax.set_ylabel(\"Mean decrease in impurity\")\n",
    "fig.tight_layout()\n",
    "\n",
    "\n"
   ]
  }
 ],
 "metadata": {
  "kernelspec": {
   "display_name": "Python 3.7.0 ('carla_windows')",
   "language": "python",
   "name": "python3"
  },
  "language_info": {
   "codemirror_mode": {
    "name": "ipython",
    "version": 3
   },
   "file_extension": ".py",
   "mimetype": "text/x-python",
   "name": "python",
   "nbconvert_exporter": "python",
   "pygments_lexer": "ipython3",
   "version": "3.7.0"
  },
  "orig_nbformat": 4,
  "vscode": {
   "interpreter": {
    "hash": "6b78e235c59f528395fecac5cf104b5a1e9734d9cb9e1120f721887febdebcb5"
   }
  }
 },
 "nbformat": 4,
 "nbformat_minor": 2
}
