{
 "cells": [
  {
   "cell_type": "markdown",
   "metadata": {},
   "source": [
    "1) Read in all files\n",
    "2) See how many 0's, 1's\n",
    "3) Analyze file (see the average length) "
   ]
  },
  {
   "cell_type": "code",
   "execution_count": 9,
   "metadata": {},
   "outputs": [
    {
     "name": "stdout",
     "output_type": "stream",
     "text": [
      "c:\\Users\\m.litton_local\\ca_disengagement\\ca_disengagement\\data\n",
      "Zeros: 44\n",
      "Ones: 55\n"
     ]
    },
    {
     "data": {
      "text/plain": [
       "count     99.000000\n",
       "mean     425.272727\n",
       "std      107.123409\n",
       "min      239.000000\n",
       "25%      334.000000\n",
       "50%      443.000000\n",
       "75%      463.000000\n",
       "max      858.000000\n",
       "dtype: float64"
      ]
     },
     "execution_count": 9,
     "metadata": {},
     "output_type": "execute_result"
    }
   ],
   "source": [
    "import os\n",
    "import pathlib\n",
    "\n",
    "data_path = os.path.join(os.getcwd(),\"data\")\n",
    "print(data_path)\n",
    "for dirName, subdirList, fileList in os.walk(data_path):\n",
    "    zeros = [f for f in fileList if f.split(\".csv\")[0].split(\"_\",2)[2] == '0']\n",
    "    ones = [f for f in fileList if f.split(\".csv\")[0].split(\"_\",2)[2] == '1']\n",
    "print(f\"Zeros: {len(zeros)}\\nOnes: {len(ones)}\")\n",
    "\n",
    "import pandas as pd\n",
    "\n",
    "all_files = zeros + ones\n",
    "file_lengths = []\n",
    "for f in all_files:\n",
    "    df = pd.read_csv(os.path.join(data_path,f))\n",
    "    file_lengths.append(df.shape[0])\n",
    "pd.Series(file_lengths).describe()"
   ]
  },
  {
   "cell_type": "markdown",
   "metadata": {},
   "source": [
    "4) For each file, take 5 seconds before and 1 second after the event of interest (sampling every 0.5 seconds)"
   ]
  },
  {
   "cell_type": "code",
   "execution_count": 10,
   "metadata": {},
   "outputs": [
    {
     "name": "stdout",
     "output_type": "stream",
     "text": [
      "<class 'pandas.core.frame.DataFrame'>\n",
      "RangeIndex: 99 entries, 0 to 98\n",
      "Columns: 261 entries, distance to class\n",
      "dtypes: float64(260), object(1)\n",
      "memory usage: 202.0+ KB\n"
     ]
    }
   ],
   "source": [
    "sample_interval = 0.5\n",
    "seconds_before = 5\n",
    "seconds_after = 1\n",
    "\n",
    "all_seqs = []\n",
    "for file in all_files:\n",
    "    df = pd.read_csv(os.path.join(data_path,file),index_col=0)\n",
    "\n",
    "    #The \"event of interest\" is:\n",
    "    #   For '1' paths, when the minimum distance is (this will be during the lane change)\n",
    "    #   For '0' paths, when the minimum distance once the adversary gets in front of the ego is\n",
    "    if file in zeros:\n",
    "        in_front = df[df['angle'].abs() < 5]\n",
    "        if(in_front.shape[0]>0):\n",
    "            min_dist = in_front['distance'].min()\n",
    "            min_dist_idx = in_front['distance'].idxmin()\n",
    "        else:\n",
    "            print(f\"the file: ({file}) is in zeros but no time in front\")\n",
    "    if file in ones:\n",
    "        min_dist = df['distance'].min()\n",
    "        min_dist_idx = df['distance'].idxmin()\n",
    "    \n",
    "    start_idx = min_dist_idx - seconds_before * (2*sample_interval/0.05)\n",
    "    stop_idx = min_dist_idx + seconds_after * (2*sample_interval/0.05)\n",
    "\n",
    "    indices_to_sample = []\n",
    "    for x in range(int(start_idx),int(stop_idx+1),int(sample_interval/0.05)): indices_to_sample.append(x)\n",
    "\n",
    "    columns_of_interest = ['distance','angle',\n",
    "        'ego_vel_x','ego_vel_y','ego_vel_z','ego_accel_x','ego_accel_y','ego_accel_z','ego_ang_vel_x','ego_ang_vel_y','ego_ang_vel_z',\n",
    "        'adv_vel_x','adv_vel_y','adv_vel_z','adv_accel_x','adv_accel_y','adv_accel_z','adv_ang_vel_x','adv_ang_vel_y','adv_ang_vel_z']\n",
    "    try:\n",
    "        rows_of_interest = df.loc[indices_to_sample,columns_of_interest]\n",
    "    except:\n",
    "        print(f\"bad keys in file {file}\")\n",
    "        print(indices_to_sample)\n",
    "        continue\n",
    "    one_seq = []\n",
    "    for index, rows in rows_of_interest.iterrows():\n",
    "        for elem in rows:\n",
    "            one_seq.append(elem)\n",
    "    one_seq.append(file.split(\".csv\")[0].split(\"_\",2)[2])\n",
    "    all_seqs.append(one_seq)\n",
    "\n",
    "full_df = pd.DataFrame(all_seqs, columns=(columns_of_interest * 13 + ['class']))\n",
    "full_df.to_csv(os.path.join(os.getcwd(),\"classifier_data\\\\labeled_data.csv\"),index=None)\n",
    "full_df.info()"
   ]
  },
  {
   "cell_type": "markdown",
   "metadata": {},
   "source": [
    "5) Generate Train/Test Files"
   ]
  },
  {
   "cell_type": "code",
   "execution_count": 11,
   "metadata": {},
   "outputs": [],
   "source": [
    "from sklearn.model_selection import train_test_split\n",
    "x = full_df.iloc[:,:-1]\n",
    "y = full_df.iloc[:,-1]\n",
    "x_train, x_test, y_train, y_test = train_test_split(x,y,test_size=0.33)\n",
    "train = x_train.assign(Class=y_train)\n",
    "test = x_test.assign(Class=y_test)\n",
    "train.to_csv(os.path.join(os.getcwd(),\"classifier_data\\\\train_file.csv\"),index=None)\n",
    "test.to_csv(os.path.join(os.getcwd(),\"classifier_data\\\\test_file.csv\"),index=None)\n"
   ]
  },
  {
   "cell_type": "code",
   "execution_count": 12,
   "metadata": {},
   "outputs": [
    {
     "data": {
      "text/html": [
       "<div>\n",
       "<style scoped>\n",
       "    .dataframe tbody tr th:only-of-type {\n",
       "        vertical-align: middle;\n",
       "    }\n",
       "\n",
       "    .dataframe tbody tr th {\n",
       "        vertical-align: top;\n",
       "    }\n",
       "\n",
       "    .dataframe thead th {\n",
       "        text-align: right;\n",
       "    }\n",
       "</style>\n",
       "<table border=\"1\" class=\"dataframe\">\n",
       "  <thead>\n",
       "    <tr style=\"text-align: right;\">\n",
       "      <th></th>\n",
       "      <th>distance</th>\n",
       "      <th>angle</th>\n",
       "      <th>ego_vel_x</th>\n",
       "      <th>ego_vel_y</th>\n",
       "      <th>ego_vel_z</th>\n",
       "      <th>ego_accel_x</th>\n",
       "      <th>ego_accel_y</th>\n",
       "      <th>ego_accel_z</th>\n",
       "      <th>ego_ang_vel_x</th>\n",
       "      <th>ego_ang_vel_y</th>\n",
       "      <th>...</th>\n",
       "      <th>ego_ang_vel_z</th>\n",
       "      <th>adv_vel_x</th>\n",
       "      <th>adv_vel_y</th>\n",
       "      <th>adv_vel_z</th>\n",
       "      <th>adv_accel_x</th>\n",
       "      <th>adv_accel_y</th>\n",
       "      <th>adv_accel_z</th>\n",
       "      <th>adv_ang_vel_x</th>\n",
       "      <th>adv_ang_vel_y</th>\n",
       "      <th>adv_ang_vel_z</th>\n",
       "    </tr>\n",
       "  </thead>\n",
       "  <tbody>\n",
       "    <tr>\n",
       "      <th>29</th>\n",
       "      <td>2.415499</td>\n",
       "      <td>-46.501185</td>\n",
       "      <td>2.093448</td>\n",
       "      <td>-0.003759</td>\n",
       "      <td>-0.000802</td>\n",
       "      <td>-0.989499</td>\n",
       "      <td>0.043124</td>\n",
       "      <td>-0.006516</td>\n",
       "      <td>-0.090764</td>\n",
       "      <td>-0.379585</td>\n",
       "      <td>...</td>\n",
       "      <td>0.932387</td>\n",
       "      <td>3.833628</td>\n",
       "      <td>-0.039128</td>\n",
       "      <td>0.065516</td>\n",
       "      <td>-0.783825</td>\n",
       "      <td>2.240886</td>\n",
       "      <td>-0.016985</td>\n",
       "      <td>0.380308</td>\n",
       "      <td>-0.164359</td>\n",
       "      <td>-3.872994</td>\n",
       "    </tr>\n",
       "    <tr>\n",
       "      <th>4</th>\n",
       "      <td>2.420711</td>\n",
       "      <td>-43.131539</td>\n",
       "      <td>2.075471</td>\n",
       "      <td>-0.004015</td>\n",
       "      <td>-0.000266</td>\n",
       "      <td>0.329924</td>\n",
       "      <td>0.035283</td>\n",
       "      <td>0.009093</td>\n",
       "      <td>-0.007856</td>\n",
       "      <td>0.088742</td>\n",
       "      <td>...</td>\n",
       "      <td>-0.854216</td>\n",
       "      <td>3.720380</td>\n",
       "      <td>-0.155289</td>\n",
       "      <td>0.063130</td>\n",
       "      <td>-0.730100</td>\n",
       "      <td>-0.027741</td>\n",
       "      <td>-0.007600</td>\n",
       "      <td>0.149874</td>\n",
       "      <td>-0.141786</td>\n",
       "      <td>-9.168257</td>\n",
       "    </tr>\n",
       "    <tr>\n",
       "      <th>44</th>\n",
       "      <td>0.397835</td>\n",
       "      <td>-134.891516</td>\n",
       "      <td>2.225805</td>\n",
       "      <td>-0.004670</td>\n",
       "      <td>0.000872</td>\n",
       "      <td>0.813313</td>\n",
       "      <td>0.036838</td>\n",
       "      <td>0.002084</td>\n",
       "      <td>0.030798</td>\n",
       "      <td>0.325388</td>\n",
       "      <td>...</td>\n",
       "      <td>9.558273</td>\n",
       "      <td>2.374212</td>\n",
       "      <td>0.391204</td>\n",
       "      <td>0.016609</td>\n",
       "      <td>-0.339894</td>\n",
       "      <td>0.305241</td>\n",
       "      <td>0.008626</td>\n",
       "      <td>-0.139566</td>\n",
       "      <td>-0.238989</td>\n",
       "      <td>3.524171</td>\n",
       "    </tr>\n",
       "    <tr>\n",
       "      <th>81</th>\n",
       "      <td>1.394040</td>\n",
       "      <td>-107.069218</td>\n",
       "      <td>2.196823</td>\n",
       "      <td>-0.004539</td>\n",
       "      <td>0.007363</td>\n",
       "      <td>-0.560832</td>\n",
       "      <td>0.043227</td>\n",
       "      <td>-0.013034</td>\n",
       "      <td>-0.057841</td>\n",
       "      <td>-0.277965</td>\n",
       "      <td>...</td>\n",
       "      <td>6.884645</td>\n",
       "      <td>2.420340</td>\n",
       "      <td>0.430309</td>\n",
       "      <td>0.035263</td>\n",
       "      <td>0.814829</td>\n",
       "      <td>0.476266</td>\n",
       "      <td>-0.029961</td>\n",
       "      <td>3.187637</td>\n",
       "      <td>-0.036557</td>\n",
       "      <td>5.136649</td>\n",
       "    </tr>\n",
       "    <tr>\n",
       "      <th>62</th>\n",
       "      <td>1.404443</td>\n",
       "      <td>-73.888908</td>\n",
       "      <td>2.219574</td>\n",
       "      <td>-0.006835</td>\n",
       "      <td>0.032812</td>\n",
       "      <td>1.133041</td>\n",
       "      <td>-0.042110</td>\n",
       "      <td>0.022266</td>\n",
       "      <td>0.109421</td>\n",
       "      <td>0.307318</td>\n",
       "      <td>...</td>\n",
       "      <td>2.926132</td>\n",
       "      <td>2.388953</td>\n",
       "      <td>0.442135</td>\n",
       "      <td>0.056791</td>\n",
       "      <td>-1.859446</td>\n",
       "      <td>-2.653977</td>\n",
       "      <td>-0.001104</td>\n",
       "      <td>2.515415</td>\n",
       "      <td>0.211529</td>\n",
       "      <td>5.944141</td>\n",
       "    </tr>\n",
       "  </tbody>\n",
       "</table>\n",
       "<p>5 rows × 260 columns</p>\n",
       "</div>"
      ],
      "text/plain": [
       "    distance       angle  ego_vel_x  ego_vel_y  ego_vel_z  ego_accel_x  \\\n",
       "29  2.415499  -46.501185   2.093448  -0.003759  -0.000802    -0.989499   \n",
       "4   2.420711  -43.131539   2.075471  -0.004015  -0.000266     0.329924   \n",
       "44  0.397835 -134.891516   2.225805  -0.004670   0.000872     0.813313   \n",
       "81  1.394040 -107.069218   2.196823  -0.004539   0.007363    -0.560832   \n",
       "62  1.404443  -73.888908   2.219574  -0.006835   0.032812     1.133041   \n",
       "\n",
       "    ego_accel_y  ego_accel_z  ego_ang_vel_x  ego_ang_vel_y  ...  \\\n",
       "29     0.043124    -0.006516      -0.090764      -0.379585  ...   \n",
       "4      0.035283     0.009093      -0.007856       0.088742  ...   \n",
       "44     0.036838     0.002084       0.030798       0.325388  ...   \n",
       "81     0.043227    -0.013034      -0.057841      -0.277965  ...   \n",
       "62    -0.042110     0.022266       0.109421       0.307318  ...   \n",
       "\n",
       "    ego_ang_vel_z  adv_vel_x  adv_vel_y  adv_vel_z  adv_accel_x  adv_accel_y  \\\n",
       "29       0.932387   3.833628  -0.039128   0.065516    -0.783825     2.240886   \n",
       "4       -0.854216   3.720380  -0.155289   0.063130    -0.730100    -0.027741   \n",
       "44       9.558273   2.374212   0.391204   0.016609    -0.339894     0.305241   \n",
       "81       6.884645   2.420340   0.430309   0.035263     0.814829     0.476266   \n",
       "62       2.926132   2.388953   0.442135   0.056791    -1.859446    -2.653977   \n",
       "\n",
       "    adv_accel_z  adv_ang_vel_x  adv_ang_vel_y  adv_ang_vel_z  \n",
       "29    -0.016985       0.380308      -0.164359      -3.872994  \n",
       "4     -0.007600       0.149874      -0.141786      -9.168257  \n",
       "44     0.008626      -0.139566      -0.238989       3.524171  \n",
       "81    -0.029961       3.187637      -0.036557       5.136649  \n",
       "62    -0.001104       2.515415       0.211529       5.944141  \n",
       "\n",
       "[5 rows x 260 columns]"
      ]
     },
     "execution_count": 12,
     "metadata": {},
     "output_type": "execute_result"
    }
   ],
   "source": [
    "x_train.head()"
   ]
  },
  {
   "cell_type": "code",
   "execution_count": 13,
   "metadata": {},
   "outputs": [
    {
     "data": {
      "text/plain": [
       "1.0"
      ]
     },
     "execution_count": 13,
     "metadata": {},
     "output_type": "execute_result"
    }
   ],
   "source": [
    "from sklearn.metrics import accuracy_score,r2_score,confusion_matrix\n",
    "from sklearn.ensemble import RandomForestClassifier\n",
    "import numpy as np\n",
    "from matplotlib import pyplot as plt\n",
    "%matplotlib inline\n",
    "\n",
    "RF = RandomForestClassifier()\n",
    "RF.fit(x_train,y_train)\n",
    "RF.score(x_test,y_test)"
   ]
  },
  {
   "cell_type": "code",
   "execution_count": 14,
   "metadata": {},
   "outputs": [
    {
     "name": "stdout",
     "output_type": "stream",
     "text": [
      "[(51, 'adv_vel_x', 0.06), (241, 'angle', 0.05), (211, 'adv_vel_x', 0.04), (180, 'distance', 0.04), (20, 'distance', 0.04), (161, 'angle', 0.04), (1, 'angle', 0.033093750000000005), (160, 'distance', 0.03230769230769231), (212, 'adv_vel_y', 0.03), (100, 'distance', 0.03), (231, 'adv_vel_x', 0.03), (21, 'angle', 0.03), (152, 'adv_vel_y', 0.03), (81, 'angle', 0.03), (221, 'angle', 0.03), (11, 'adv_vel_x', 0.03), (111, 'adv_vel_x', 0.03), (181, 'angle', 0.03), (172, 'adv_vel_y', 0.02), (120, 'distance', 0.02)]\n",
      "81.92307692307692\n"
     ]
    },
    {
     "data": {
      "image/png": "[encoded data removed]",
      "text/plain": [
       "<Figure size 432x288 with 1 Axes>"
      ]
     },
     "metadata": {
      "needs_background": "light"
     },
     "output_type": "display_data"
    }
   ],
   "source": [
    "importances = RF.feature_importances_\n",
    "std = np.std([tree.feature_importances_ for tree in RF.estimators_], axis=0)\n",
    "feature_names=x_test.columns.values.tolist()\n",
    "forest_importances = pd.Series(importances, index=feature_names)\n",
    "\n",
    "#print(np.sort(importances)[::-1])\n",
    "sorted_importances = np.argsort(importances)[::-1]\n",
    "sorted_tuple = [(i,feature_names[i],importances[i]) for i in sorted_importances]\n",
    "print(sorted_tuple[:20])\n",
    "print(len([x for x in sorted_tuple if x[2]==0])/len(sorted_tuple) * 100)\n",
    "\n",
    "fig, ax = plt.subplots()\n",
    "forest_importances.plot.bar(yerr=std,ax=ax)\n",
    "ax.set_title(\"Feature importances using MDI\")\n",
    "ax.set_ylabel(\"Mean decrease in impurity\")\n",
    "fig.tight_layout()\n",
    "\n",
    "\n"
   ]
  }
 ],
 "metadata": {
  "kernelspec": {
   "display_name": "Python 3.7.0 ('carla_windows')",
   "language": "python",
   "name": "python3"
  },
  "language_info": {
   "codemirror_mode": {
    "name": "ipython",
    "version": 3
   },
   "file_extension": ".py",
   "mimetype": "text/x-python",
   "name": "python",
   "nbconvert_exporter": "python",
   "pygments_lexer": "ipython3",
   "version": "3.7.0"
  },
  "orig_nbformat": 4,
  "vscode": {
   "interpreter": {
    "hash": "6b78e235c59f528395fecac5cf104b5a1e9734d9cb9e1120f721887febdebcb5"
   }
  }
 },
 "nbformat": 4,
 "nbformat_minor": 2
}
