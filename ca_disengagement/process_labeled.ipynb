{
 "cells": [
  {
   "cell_type": "markdown",
   "metadata": {},
   "source": [
    "1) Read in all files\n",
    "2) See how many 0's, 1's\n",
    "3) Analyze file (see the average length) "
   ]
  },
  {
   "cell_type": "code",
   "execution_count": 9,
   "metadata": {},
   "outputs": [
    {
     "name": "stdout",
     "output_type": "stream",
     "text": [
      "c:\\Users\\m.litton_local\\ca_disengagement\\ca_disengagement\\data\n",
      "Zeros: 103\n",
      "Ones: 116\n"
     ]
    },
    {
     "data": {
      "text/plain": [
       "count     219.000000\n",
       "mean      494.050228\n",
       "std       119.566542\n",
       "min       251.000000\n",
       "25%       437.000000\n",
       "50%       470.000000\n",
       "75%       567.500000\n",
       "max      1002.000000\n",
       "dtype: float64"
      ]
     },
     "execution_count": 9,
     "metadata": {},
     "output_type": "execute_result"
    }
   ],
   "source": [
    "import os\n",
    "import pathlib\n",
    "\n",
    "data_path = os.path.join(os.getcwd(),\"data\")\n",
    "print(data_path)\n",
    "for dirName, subdirList, fileList in os.walk(data_path):\n",
    "    zeros = [f for f in fileList if f.split(\".csv\")[0].split(\"_\",2)[2] == '0']\n",
    "    ones = [f for f in fileList if f.split(\".csv\")[0].split(\"_\",2)[2] == '1']\n",
    "print(f\"Zeros: {len(zeros)}\\nOnes: {len(ones)}\")\n",
    "\n",
    "import pandas as pd\n",
    "\n",
    "all_files = zeros + ones\n",
    "file_lengths = []\n",
    "for f in all_files:\n",
    "    df = pd.read_csv(os.path.join(data_path,f))\n",
    "    file_lengths.append(df.shape[0])\n",
    "pd.Series(file_lengths).describe()"
   ]
  },
  {
   "cell_type": "markdown",
   "metadata": {},
   "source": [
    "4) For each file, take 5 seconds before and 1 second after the event of interest (sampling every 0.5 seconds)"
   ]
  },
  {
   "cell_type": "code",
   "execution_count": 10,
   "metadata": {},
   "outputs": [
    {
     "name": "stdout",
     "output_type": "stream",
     "text": [
      "<class 'pandas.core.frame.DataFrame'>\n",
      "RangeIndex: 219 entries, 0 to 218\n",
      "Columns: 261 entries, distance to class\n",
      "dtypes: float64(260), object(1)\n",
      "memory usage: 446.7+ KB\n"
     ]
    }
   ],
   "source": [
    "sample_interval = 0.5\n",
    "seconds_before = 5\n",
    "seconds_after = 1\n",
    "\n",
    "all_seqs = []\n",
    "for file in all_files:\n",
    "    df = pd.read_csv(os.path.join(data_path,file),index_col=0)\n",
    "\n",
    "    #The \"event of interest\" is:\n",
    "    #   For '1' paths, when the minimum distance is (this will be during the lane change)\n",
    "    #   For '0' paths, when the minimum distance once the adversary gets in front of the ego is\n",
    "    \n",
    "    \n",
    "    \n",
    "    df_moving = df[25:]\n",
    "    max_accel = df_moving['adv_accel_y'].max()\n",
    "    max_accel_idx = df_moving['adv_accel_y'].idxmax()\n",
    "\n",
    "    \"\"\"\n",
    "    if file in zeros:\n",
    "        in_front = df[df['angle'].abs() < 5]\n",
    "        if(in_front.shape[0]>0):\n",
    "            min_dist = in_front['distance'].min()\n",
    "            min_dist_idx = in_front['distance'].idxmin()\n",
    "        else:\n",
    "            print(f\"the file: ({file}) is in zeros but no time in front\")\n",
    "    if file in ones:\n",
    "        min_dist = df['distance'].min()\n",
    "        min_dist_idx = df['distance'].idxmin()\n",
    "    \"\"\"\n",
    "    start_idx = max_accel_idx - seconds_before * (2*sample_interval/0.05)\n",
    "    stop_idx = max_accel_idx + seconds_after * (2*sample_interval/0.05)\n",
    "\n",
    "    indices_to_sample = []\n",
    "    for x in range(int(start_idx),int(stop_idx+1),int(sample_interval/0.05)): indices_to_sample.append(x)\n",
    "\n",
    "    columns_of_interest = ['distance','angle',\n",
    "        'ego_vel_x','ego_vel_y','ego_vel_z','ego_accel_x','ego_accel_y','ego_accel_z','ego_ang_vel_x','ego_ang_vel_y','ego_ang_vel_z',\n",
    "        'adv_vel_x','adv_vel_y','adv_vel_z','adv_accel_x','adv_accel_y','adv_accel_z','adv_ang_vel_x','adv_ang_vel_y','adv_ang_vel_z']\n",
    "    try:\n",
    "        rows_of_interest = df.loc[indices_to_sample,columns_of_interest]\n",
    "    except:\n",
    "        print(f\"bad keys in file {file}\")\n",
    "        print(indices_to_sample)\n",
    "        continue\n",
    "    one_seq = []\n",
    "    for index, rows in rows_of_interest.iterrows():\n",
    "        for elem in rows:\n",
    "            one_seq.append(elem)\n",
    "    one_seq.append(file.split(\".csv\")[0].split(\"_\",2)[2])\n",
    "    all_seqs.append(one_seq)\n",
    "\n",
    "full_df = pd.DataFrame(all_seqs, columns=(columns_of_interest * 13 + ['class']))\n",
    "full_df.to_csv(os.path.join(os.getcwd(),\"classifier_data\\\\labeled_data.csv\"),index=None)\n",
    "full_df.info()"
   ]
  },
  {
   "cell_type": "markdown",
   "metadata": {},
   "source": [
    "5) Generate Train/Test Files"
   ]
  },
  {
   "cell_type": "code",
   "execution_count": 11,
   "metadata": {},
   "outputs": [],
   "source": [
    "from sklearn.model_selection import train_test_split\n",
    "x = full_df.iloc[:,:-1]\n",
    "y = full_df.iloc[:,-1]\n",
    "x_train, x_test, y_train, y_test = train_test_split(x,y,test_size=0.33)\n",
    "train = x_train.assign(Class=y_train)\n",
    "test = x_test.assign(Class=y_test)\n",
    "train.to_csv(os.path.join(os.getcwd(),\"classifier_data\\\\train_file.csv\"),index=None)\n",
    "test.to_csv(os.path.join(os.getcwd(),\"classifier_data\\\\test_file.csv\"),index=None)"
   ]
  },
  {
   "cell_type": "code",
   "execution_count": 12,
   "metadata": {},
   "outputs": [
    {
     "data": {
      "text/html": [
       "<div>\n",
       "<style scoped>\n",
       "    .dataframe tbody tr th:only-of-type {\n",
       "        vertical-align: middle;\n",
       "    }\n",
       "\n",
       "    .dataframe tbody tr th {\n",
       "        vertical-align: top;\n",
       "    }\n",
       "\n",
       "    .dataframe thead th {\n",
       "        text-align: right;\n",
       "    }\n",
       "</style>\n",
       "<table border=\"1\" class=\"dataframe\">\n",
       "  <thead>\n",
       "    <tr style=\"text-align: right;\">\n",
       "      <th></th>\n",
       "      <th>distance</th>\n",
       "      <th>angle</th>\n",
       "      <th>ego_vel_x</th>\n",
       "      <th>ego_vel_y</th>\n",
       "      <th>ego_vel_z</th>\n",
       "      <th>ego_accel_x</th>\n",
       "      <th>ego_accel_y</th>\n",
       "      <th>ego_accel_z</th>\n",
       "      <th>ego_ang_vel_x</th>\n",
       "      <th>ego_ang_vel_y</th>\n",
       "      <th>...</th>\n",
       "      <th>ego_ang_vel_z</th>\n",
       "      <th>adv_vel_x</th>\n",
       "      <th>adv_vel_y</th>\n",
       "      <th>adv_vel_z</th>\n",
       "      <th>adv_accel_x</th>\n",
       "      <th>adv_accel_y</th>\n",
       "      <th>adv_accel_z</th>\n",
       "      <th>adv_ang_vel_x</th>\n",
       "      <th>adv_ang_vel_y</th>\n",
       "      <th>adv_ang_vel_z</th>\n",
       "    </tr>\n",
       "  </thead>\n",
       "  <tbody>\n",
       "    <tr>\n",
       "      <th>140</th>\n",
       "      <td>1.388446</td>\n",
       "      <td>-121.675580</td>\n",
       "      <td>2.172591</td>\n",
       "      <td>-0.006259</td>\n",
       "      <td>0.001868</td>\n",
       "      <td>-0.854416</td>\n",
       "      <td>-0.032512</td>\n",
       "      <td>-0.013376</td>\n",
       "      <td>-0.023022</td>\n",
       "      <td>-0.353531</td>\n",
       "      <td>...</td>\n",
       "      <td>-0.859916</td>\n",
       "      <td>2.681756</td>\n",
       "      <td>0.711327</td>\n",
       "      <td>0.030883</td>\n",
       "      <td>-0.103002</td>\n",
       "      <td>-0.079619</td>\n",
       "      <td>0.000164</td>\n",
       "      <td>0.001881</td>\n",
       "      <td>-0.137958</td>\n",
       "      <td>3.183167</td>\n",
       "    </tr>\n",
       "    <tr>\n",
       "      <th>134</th>\n",
       "      <td>0.413275</td>\n",
       "      <td>-139.795001</td>\n",
       "      <td>2.145585</td>\n",
       "      <td>-0.006015</td>\n",
       "      <td>0.000485</td>\n",
       "      <td>1.128025</td>\n",
       "      <td>-0.044704</td>\n",
       "      <td>0.011795</td>\n",
       "      <td>0.088501</td>\n",
       "      <td>0.386987</td>\n",
       "      <td>...</td>\n",
       "      <td>-0.919316</td>\n",
       "      <td>3.028599</td>\n",
       "      <td>0.797797</td>\n",
       "      <td>0.017732</td>\n",
       "      <td>-0.227585</td>\n",
       "      <td>-0.047946</td>\n",
       "      <td>0.017132</td>\n",
       "      <td>0.005309</td>\n",
       "      <td>-0.145483</td>\n",
       "      <td>4.325610</td>\n",
       "    </tr>\n",
       "    <tr>\n",
       "      <th>185</th>\n",
       "      <td>0.401628</td>\n",
       "      <td>-102.734077</td>\n",
       "      <td>2.074257</td>\n",
       "      <td>-0.005956</td>\n",
       "      <td>-0.000302</td>\n",
       "      <td>0.250907</td>\n",
       "      <td>-0.042951</td>\n",
       "      <td>0.008790</td>\n",
       "      <td>0.032592</td>\n",
       "      <td>0.061778</td>\n",
       "      <td>...</td>\n",
       "      <td>-0.948713</td>\n",
       "      <td>3.019130</td>\n",
       "      <td>0.791360</td>\n",
       "      <td>0.034749</td>\n",
       "      <td>-0.167751</td>\n",
       "      <td>-0.022473</td>\n",
       "      <td>-0.003272</td>\n",
       "      <td>-0.005818</td>\n",
       "      <td>-0.152223</td>\n",
       "      <td>4.300009</td>\n",
       "    </tr>\n",
       "    <tr>\n",
       "      <th>103</th>\n",
       "      <td>0.399142</td>\n",
       "      <td>-137.265104</td>\n",
       "      <td>2.137084</td>\n",
       "      <td>-0.004024</td>\n",
       "      <td>-0.000548</td>\n",
       "      <td>-1.049290</td>\n",
       "      <td>0.045356</td>\n",
       "      <td>-0.011273</td>\n",
       "      <td>-0.093227</td>\n",
       "      <td>-0.382430</td>\n",
       "      <td>...</td>\n",
       "      <td>9.499618</td>\n",
       "      <td>2.415219</td>\n",
       "      <td>0.410821</td>\n",
       "      <td>0.016840</td>\n",
       "      <td>0.043836</td>\n",
       "      <td>0.155589</td>\n",
       "      <td>-0.044429</td>\n",
       "      <td>3.117825</td>\n",
       "      <td>-0.069184</td>\n",
       "      <td>4.745868</td>\n",
       "    </tr>\n",
       "    <tr>\n",
       "      <th>206</th>\n",
       "      <td>0.407219</td>\n",
       "      <td>-57.548714</td>\n",
       "      <td>2.228659</td>\n",
       "      <td>-0.006720</td>\n",
       "      <td>0.020297</td>\n",
       "      <td>0.193205</td>\n",
       "      <td>-0.036909</td>\n",
       "      <td>-0.002122</td>\n",
       "      <td>0.057794</td>\n",
       "      <td>0.006035</td>\n",
       "      <td>...</td>\n",
       "      <td>-0.911618</td>\n",
       "      <td>2.707151</td>\n",
       "      <td>0.721859</td>\n",
       "      <td>0.058602</td>\n",
       "      <td>-0.041733</td>\n",
       "      <td>-0.027505</td>\n",
       "      <td>-0.001057</td>\n",
       "      <td>-0.072243</td>\n",
       "      <td>-0.065572</td>\n",
       "      <td>4.059795</td>\n",
       "    </tr>\n",
       "  </tbody>\n",
       "</table>\n",
       "<p>5 rows × 260 columns</p>\n",
       "</div>"
      ],
      "text/plain": [
       "     distance       angle  ego_vel_x  ego_vel_y  ego_vel_z  ego_accel_x  \\\n",
       "140  1.388446 -121.675580   2.172591  -0.006259   0.001868    -0.854416   \n",
       "134  0.413275 -139.795001   2.145585  -0.006015   0.000485     1.128025   \n",
       "185  0.401628 -102.734077   2.074257  -0.005956  -0.000302     0.250907   \n",
       "103  0.399142 -137.265104   2.137084  -0.004024  -0.000548    -1.049290   \n",
       "206  0.407219  -57.548714   2.228659  -0.006720   0.020297     0.193205   \n",
       "\n",
       "     ego_accel_y  ego_accel_z  ego_ang_vel_x  ego_ang_vel_y  ...  \\\n",
       "140    -0.032512    -0.013376      -0.023022      -0.353531  ...   \n",
       "134    -0.044704     0.011795       0.088501       0.386987  ...   \n",
       "185    -0.042951     0.008790       0.032592       0.061778  ...   \n",
       "103     0.045356    -0.011273      -0.093227      -0.382430  ...   \n",
       "206    -0.036909    -0.002122       0.057794       0.006035  ...   \n",
       "\n",
       "     ego_ang_vel_z  adv_vel_x  adv_vel_y  adv_vel_z  adv_accel_x  adv_accel_y  \\\n",
       "140      -0.859916   2.681756   0.711327   0.030883    -0.103002    -0.079619   \n",
       "134      -0.919316   3.028599   0.797797   0.017732    -0.227585    -0.047946   \n",
       "185      -0.948713   3.019130   0.791360   0.034749    -0.167751    -0.022473   \n",
       "103       9.499618   2.415219   0.410821   0.016840     0.043836     0.155589   \n",
       "206      -0.911618   2.707151   0.721859   0.058602    -0.041733    -0.027505   \n",
       "\n",
       "     adv_accel_z  adv_ang_vel_x  adv_ang_vel_y  adv_ang_vel_z  \n",
       "140     0.000164       0.001881      -0.137958       3.183167  \n",
       "134     0.017132       0.005309      -0.145483       4.325610  \n",
       "185    -0.003272      -0.005818      -0.152223       4.300009  \n",
       "103    -0.044429       3.117825      -0.069184       4.745868  \n",
       "206    -0.001057      -0.072243      -0.065572       4.059795  \n",
       "\n",
       "[5 rows x 260 columns]"
      ]
     },
     "execution_count": 12,
     "metadata": {},
     "output_type": "execute_result"
    }
   ],
   "source": [
    "x_train.head()"
   ]
  },
  {
   "cell_type": "code",
   "execution_count": 13,
   "metadata": {},
   "outputs": [
    {
     "data": {
      "text/plain": [
       "0.9726027397260274"
      ]
     },
     "execution_count": 13,
     "metadata": {},
     "output_type": "execute_result"
    }
   ],
   "source": [
    "from sklearn.metrics import accuracy_score,r2_score,confusion_matrix\n",
    "from sklearn.ensemble import RandomForestClassifier\n",
    "import numpy as np\n",
    "from matplotlib import pyplot as plt\n",
    "%matplotlib inline\n",
    "\n",
    "RF = RandomForestClassifier()\n",
    "RF.fit(x_train,y_train)\n",
    "RF.score(x_test,y_test)"
   ]
  },
  {
   "cell_type": "code",
   "execution_count": 7,
   "metadata": {},
   "outputs": [
    {
     "name": "stdout",
     "output_type": "stream",
     "text": [
      "[(81, 'angle', 0.06), (101, 'angle', 0.05), (220, 'distance', 0.05), (152, 'adv_vel_y', 0.05), (141, 'angle', 0.05), (191, 'adv_vel_x', 0.04530764807360552), (51, 'adv_vel_x', 0.04), (200, 'distance', 0.04), (160, 'distance', 0.04), (259, 'adv_ang_vel_z', 0.03), (201, 'angle', 0.03), (120, 'distance', 0.03), (251, 'adv_vel_x', 0.03), (71, 'adv_vel_x', 0.03), (41, 'angle', 0.03), (21, 'angle', 0.03), (91, 'adv_vel_x', 0.02), (231, 'adv_vel_x', 0.02), (132, 'adv_vel_y', 0.02), (80, 'distance', 0.02)]\n",
      "83.07692307692308\n"
     ]
    },
    {
     "data": {
      "image/png": "[encoded data removed]",
      "text/plain": [
       "<Figure size 432x288 with 1 Axes>"
      ]
     },
     "metadata": {
      "needs_background": "light"
     },
     "output_type": "display_data"
    }
   ],
   "source": [
    "importances = RF.feature_importances_\n",
    "std = np.std([tree.feature_importances_ for tree in RF.estimators_], axis=0)\n",
    "feature_names=x_test.columns.values.tolist()\n",
    "forest_importances = pd.Series(importances, index=feature_names)\n",
    "\n",
    "#print(np.sort(importances)[::-1])\n",
    "sorted_importances = np.argsort(importances)[::-1]\n",
    "sorted_tuple = [(i,feature_names[i],importances[i]) for i in sorted_importances]\n",
    "print(sorted_tuple[:20])\n",
    "print(len([x for x in sorted_tuple if x[2]==0])/len(sorted_tuple) * 100)\n",
    "\n",
    "fig, ax = plt.subplots()\n",
    "forest_importances.plot.bar(yerr=std,ax=ax)\n",
    "ax.set_title(\"Feature importances using MDI\")\n",
    "ax.set_ylabel(\"Mean decrease in impurity\")\n",
    "fig.tight_layout()"
   ]
  },
  {
   "cell_type": "code",
   "execution_count": 43,
   "metadata": {},
   "outputs": [
    {
     "data": {
      "text/plain": [
       "array(['1', '0', '0', '1'], dtype=object)"
      ]
     },
     "execution_count": 43,
     "metadata": {},
     "output_type": "execute_result"
    }
   ],
   "source": [
    "RF.predict(x_test[:4])"
   ]
  }
 ],
 "metadata": {
  "kernelspec": {
   "display_name": "Python 3.7.0 ('carla_windows')",
   "language": "python",
   "name": "python3"
  },
  "language_info": {
   "codemirror_mode": {
    "name": "ipython",
    "version": 3
   },
   "file_extension": ".py",
   "mimetype": "text/x-python",
   "name": "python",
   "nbconvert_exporter": "python",
   "pygments_lexer": "ipython3",
   "version": "3.7.0"
  },
  "orig_nbformat": 4,
  "vscode": {
   "interpreter": {
    "hash": "6b78e235c59f528395fecac5cf104b5a1e9734d9cb9e1120f721887febdebcb5"
   }
  }
 },
 "nbformat": 4,
 "nbformat_minor": 2
}
